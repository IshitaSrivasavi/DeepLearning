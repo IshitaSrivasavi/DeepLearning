{
  "cells": [
    {
      "cell_type": "markdown",
      "metadata": {
        "id": "Ka9-BtIZhpgT"
      },
      "source": [
        "# Lab: Denoising with a CNN Autoencoder\n",
        "\n",
        "In the final lab for this week, you will introduce noise to the Fashion MNIST dataset and train an autoencoder to reconstruct the original input images."
      ]
    },
    {
      "cell_type": "markdown",
      "metadata": {
        "id": "k-WXDV3Tk6N6"
      },
      "source": [
        "## Imports"
      ]
    },
    {
      "cell_type": "code",
      "execution_count": 13,
      "metadata": {
        "id": "3EXwoz-KHtWO",
        "colab": {
          "base_uri": "https://localhost:8080/"
        },
        "outputId": "c787d755-d680-4b7f-9784-14625d4432bb"
      },
      "outputs": [
        {
          "output_type": "stream",
          "name": "stdout",
          "text": [
            "Colab only includes TensorFlow 2.x; %tensorflow_version has no effect.\n"
          ]
        }
      ],
      "source": [
        "try:\n",
        "  # %tensorflow_version only exists in Colab.\n",
        "  %tensorflow_version 2.x\n",
        "except Exception:\n",
        "  pass\n",
        "\n",
        "import tensorflow as tf\n",
        "import tensorflow_datasets as tfds\n",
        "\n",
        "import numpy as np\n",
        "import matplotlib.pyplot as plt"
      ]
    },
    {
      "cell_type": "markdown",
      "metadata": {
        "id": "RX4GbMpwk8Y5"
      },
      "source": [
        "## Prepare the Dataset"
      ]
    },
    {
      "cell_type": "markdown",
      "metadata": {
        "id": "OLuUvE7ieuAl"
      },
      "source": [
        "You will prepare the train and test sets a little differently this time. Instead of just normalizing the images, you will also introduce random noise and the generated images will be used as input to your model. The target or label will still be the clean images."
      ]
    },
    {
      "cell_type": "code",
      "execution_count": 14,
      "metadata": {
        "id": "t9F7YsCNIKSA"
      },
      "outputs": [],
      "source": [
        "def map_image_with_noise(image, label):\n",
        "  '''Normalizes the images and generates noisy inputs.'''\n",
        "  image = tf.cast(image, dtype=tf.float32)\n",
        "  image = image / 255.0\n",
        "\n",
        "  # START YOUR CODE HERE\n",
        "  noise_factor = 0.5\n",
        "  noise = tf.random.normal(shape=tf.shape(image), mean=0.0, stddev=1.0)\n",
        "  image_noisy = image + noise_factor * noise\n",
        "  # END YOUR CODE HERE\n",
        "  image_noisy = tf.clip_by_value(image_noisy, 0.0, 1.0)\n",
        "\n",
        "  return image_noisy, image"
      ]
    },
    {
      "cell_type": "code",
      "execution_count": 15,
      "metadata": {
        "id": "Ub3k-XfMeTol"
      },
      "outputs": [],
      "source": [
        "BATCH_SIZE = 128\n",
        "SHUFFLE_BUFFER_SIZE = 1024\n",
        "\n",
        "train_dataset = tfds.load('fashion_mnist', as_supervised=True, split=\"train\")\n",
        "train_dataset = train_dataset.map(map_image_with_noise)\n",
        "train_dataset = train_dataset.shuffle(SHUFFLE_BUFFER_SIZE).batch(BATCH_SIZE).repeat()\n",
        "\n",
        "test_dataset = tfds.load('fashion_mnist', as_supervised=True, split=\"test\")\n",
        "test_dataset = test_dataset.map(map_image_with_noise)\n",
        "test_dataset = test_dataset.batch(BATCH_SIZE).repeat()"
      ]
    },
    {
      "cell_type": "markdown",
      "metadata": {
        "id": "0dJ4QWDMk_Wd"
      },
      "source": [
        "## Build the Model"
      ]
    },
    {
      "cell_type": "markdown",
      "metadata": {
        "id": "Z8t_TQP3fOLZ"
      },
      "source": [
        "You will use the same model from the previous lab."
      ]
    },
    {
      "cell_type": "markdown",
      "metadata": {
        "id": "e_8SD8jRfVG7"
      },
      "source": [
        "<img src=\"cnnEncoder.png\" width=\"75%\" height=\"75%\"/>"
      ]
    },
    {
      "cell_type": "code",
      "execution_count": 16,
      "metadata": {
        "id": "wxh8h-UMk2iL"
      },
      "outputs": [],
      "source": [
        "def encoder(inputs):\n",
        "  '''Defines the encoder with two Conv2D and max pooling layers.'''\n",
        "  conv_1 = tf.keras.layers.Conv2D(filters=64, kernel_size=(3,3), activation='relu', padding='same')(inputs)\n",
        "  max_pool_1 = tf.keras.layers.MaxPooling2D(pool_size=(2,2))(conv_1)\n",
        "\n",
        "  conv_2 = tf.keras.layers.Conv2D(filters=128, kernel_size=(3,3), activation='relu', padding='same')(max_pool_1)\n",
        "  max_pool_2 = tf.keras.layers.MaxPooling2D(pool_size=(2,2))(conv_2)\n",
        "\n",
        "  return max_pool_2"
      ]
    },
    {
      "cell_type": "code",
      "execution_count": 17,
      "metadata": {
        "id": "wRWmLA3VliDr"
      },
      "outputs": [],
      "source": [
        "def bottle_neck(inputs):\n",
        "  '''Defines the bottleneck.'''\n",
        "  bottle_neck = tf.keras.layers.Conv2D(filters=256, kernel_size=(3,3), activation='relu', padding='same')(inputs)\n",
        "  encoder_visualization = tf.keras.layers.Conv2D(filters=1, kernel_size=(3,3), activation='sigmoid', padding='same')(bottle_neck)\n",
        "\n",
        "  return bottle_neck, encoder_visualization"
      ]
    },
    {
      "cell_type": "code",
      "execution_count": 18,
      "metadata": {
        "id": "XZgLt5uAmArk"
      },
      "outputs": [],
      "source": [
        "def decoder(inputs):\n",
        "  '''Defines the decoder path to upsample back to the original image size.'''\n",
        "  conv_1 = tf.keras.layers.Conv2D(filters=128, kernel_size=(3,3), activation='relu', padding='same')(inputs)\n",
        "  up_sample_1 = tf.keras.layers.UpSampling2D(size=(2,2))(conv_1)\n",
        "\n",
        "  conv_2 = tf.keras.layers.Conv2D(filters=64, kernel_size=(3,3), activation='relu', padding='same')(up_sample_1)\n",
        "  up_sample_2 = tf.keras.layers.UpSampling2D(size=(2,2))(conv_2)\n",
        "\n",
        "  conv_3 = tf.keras.layers.Conv2D(filters=1, kernel_size=(3,3), activation='sigmoid', padding='same')(up_sample_2)\n",
        "\n",
        "  return conv_3"
      ]
    },
    {
      "cell_type": "code",
      "execution_count": 19,
      "metadata": {
        "id": "fQKwO64iiOYl"
      },
      "outputs": [],
      "source": [
        "def convolutional_auto_encoder():\n",
        "  '''Builds the entire autoencoder model.'''\n",
        "  inputs = tf.keras.layers.Input(shape=(28, 28, 1,))\n",
        "  encoder_output = encoder(inputs)\n",
        "  bottleneck_output, encoder_visualization = bottle_neck(encoder_output)\n",
        "  decoder_output = decoder(bottleneck_output)\n",
        "\n",
        "  model = tf.keras.Model(inputs =inputs, outputs=decoder_output)\n",
        "  encoder_model = tf.keras.Model(inputs=inputs, outputs=encoder_visualization)\n",
        "  return model, encoder_model"
      ]
    },
    {
      "cell_type": "code",
      "execution_count": 20,
      "metadata": {
        "id": "1MmS7r0tkuIf",
        "colab": {
          "base_uri": "https://localhost:8080/"
        },
        "outputId": "942e0277-a375-4f6e-966a-1d49be3031e1"
      },
      "outputs": [
        {
          "output_type": "stream",
          "name": "stdout",
          "text": [
            "Model: \"model_2\"\n",
            "_________________________________________________________________\n",
            " Layer (type)                Output Shape              Param #   \n",
            "=================================================================\n",
            " input_2 (InputLayer)        [(None, 28, 28, 1)]       0         \n",
            "                                                                 \n",
            " conv2d_7 (Conv2D)           (None, 28, 28, 64)        640       \n",
            "                                                                 \n",
            " max_pooling2d_2 (MaxPoolin  (None, 14, 14, 64)        0         \n",
            " g2D)                                                            \n",
            "                                                                 \n",
            " conv2d_8 (Conv2D)           (None, 14, 14, 128)       73856     \n",
            "                                                                 \n",
            " max_pooling2d_3 (MaxPoolin  (None, 7, 7, 128)         0         \n",
            " g2D)                                                            \n",
            "                                                                 \n",
            " conv2d_9 (Conv2D)           (None, 7, 7, 256)         295168    \n",
            "                                                                 \n",
            " conv2d_11 (Conv2D)          (None, 7, 7, 128)         295040    \n",
            "                                                                 \n",
            " up_sampling2d_2 (UpSamplin  (None, 14, 14, 128)       0         \n",
            " g2D)                                                            \n",
            "                                                                 \n",
            " conv2d_12 (Conv2D)          (None, 14, 14, 64)        73792     \n",
            "                                                                 \n",
            " up_sampling2d_3 (UpSamplin  (None, 28, 28, 64)        0         \n",
            " g2D)                                                            \n",
            "                                                                 \n",
            " conv2d_13 (Conv2D)          (None, 28, 28, 1)         577       \n",
            "                                                                 \n",
            "=================================================================\n",
            "Total params: 739073 (2.82 MB)\n",
            "Trainable params: 739073 (2.82 MB)\n",
            "Non-trainable params: 0 (0.00 Byte)\n",
            "_________________________________________________________________\n"
          ]
        }
      ],
      "source": [
        "convolutional_model, convolutional_encoder_model = convolutional_auto_encoder()\n",
        "convolutional_model.summary()"
      ]
    },
    {
      "cell_type": "markdown",
      "metadata": {
        "id": "rCh0ea08lERp"
      },
      "source": [
        "## Compile and Train the Model"
      ]
    },
    {
      "cell_type": "code",
      "execution_count": 21,
      "metadata": {
        "id": "J0Umj_xaiHL_",
        "colab": {
          "base_uri": "https://localhost:8080/"
        },
        "outputId": "369068c3-ca2f-4c81-af8a-5c0efa48fc38"
      },
      "outputs": [
        {
          "output_type": "stream",
          "name": "stdout",
          "text": [
            "Epoch 1/40\n",
            "468/468 [==============================] - 19s 30ms/step - loss: 0.3194 - val_loss: 0.2997\n",
            "Epoch 2/40\n",
            "468/468 [==============================] - 12s 24ms/step - loss: 0.2940 - val_loss: 0.2939\n",
            "Epoch 3/40\n",
            "468/468 [==============================] - 11s 24ms/step - loss: 0.2897 - val_loss: 0.2902\n",
            "Epoch 4/40\n",
            "468/468 [==============================] - 12s 25ms/step - loss: 0.2871 - val_loss: 0.2879\n",
            "Epoch 5/40\n",
            "468/468 [==============================] - 12s 25ms/step - loss: 0.2854 - val_loss: 0.2869\n",
            "Epoch 6/40\n",
            "468/468 [==============================] - 12s 25ms/step - loss: 0.2842 - val_loss: 0.2862\n",
            "Epoch 7/40\n",
            "468/468 [==============================] - 12s 25ms/step - loss: 0.2833 - val_loss: 0.2854\n",
            "Epoch 8/40\n",
            "468/468 [==============================] - 12s 25ms/step - loss: 0.2827 - val_loss: 0.2845\n",
            "Epoch 9/40\n",
            "468/468 [==============================] - 12s 25ms/step - loss: 0.2822 - val_loss: 0.2841\n",
            "Epoch 10/40\n",
            "468/468 [==============================] - 12s 25ms/step - loss: 0.2815 - val_loss: 0.2835\n",
            "Epoch 11/40\n",
            "468/468 [==============================] - 12s 25ms/step - loss: 0.2811 - val_loss: 0.2829\n",
            "Epoch 12/40\n",
            "468/468 [==============================] - 12s 26ms/step - loss: 0.2809 - val_loss: 0.2829\n",
            "Epoch 13/40\n",
            "468/468 [==============================] - 12s 25ms/step - loss: 0.2805 - val_loss: 0.2823\n",
            "Epoch 14/40\n",
            "468/468 [==============================] - 12s 25ms/step - loss: 0.2803 - val_loss: 0.2823\n",
            "Epoch 15/40\n",
            "468/468 [==============================] - 12s 25ms/step - loss: 0.2800 - val_loss: 0.2822\n",
            "Epoch 16/40\n",
            "468/468 [==============================] - 12s 26ms/step - loss: 0.2798 - val_loss: 0.2818\n",
            "Epoch 17/40\n",
            "468/468 [==============================] - 12s 26ms/step - loss: 0.2796 - val_loss: 0.2819\n",
            "Epoch 18/40\n",
            "468/468 [==============================] - 12s 26ms/step - loss: 0.2794 - val_loss: 0.2816\n",
            "Epoch 19/40\n",
            "468/468 [==============================] - 12s 26ms/step - loss: 0.2793 - val_loss: 0.2818\n",
            "Epoch 20/40\n",
            "468/468 [==============================] - 12s 25ms/step - loss: 0.2791 - val_loss: 0.2813\n",
            "Epoch 21/40\n",
            "468/468 [==============================] - 12s 25ms/step - loss: 0.2789 - val_loss: 0.2810\n",
            "Epoch 22/40\n",
            "468/468 [==============================] - 12s 26ms/step - loss: 0.2789 - val_loss: 0.2811\n",
            "Epoch 23/40\n",
            "468/468 [==============================] - 12s 25ms/step - loss: 0.2789 - val_loss: 0.2808\n",
            "Epoch 24/40\n",
            "468/468 [==============================] - 12s 25ms/step - loss: 0.2786 - val_loss: 0.2809\n",
            "Epoch 25/40\n",
            "468/468 [==============================] - 11s 24ms/step - loss: 0.2785 - val_loss: 0.2808\n",
            "Epoch 26/40\n",
            "468/468 [==============================] - 12s 25ms/step - loss: 0.2785 - val_loss: 0.2807\n",
            "Epoch 27/40\n",
            "468/468 [==============================] - 12s 26ms/step - loss: 0.2785 - val_loss: 0.2805\n",
            "Epoch 28/40\n",
            "468/468 [==============================] - 12s 26ms/step - loss: 0.2785 - val_loss: 0.2804\n",
            "Epoch 29/40\n",
            "468/468 [==============================] - 12s 26ms/step - loss: 0.2783 - val_loss: 0.2804\n",
            "Epoch 30/40\n",
            "468/468 [==============================] - 12s 26ms/step - loss: 0.2782 - val_loss: 0.2804\n",
            "Epoch 31/40\n",
            "468/468 [==============================] - 12s 26ms/step - loss: 0.2782 - val_loss: 0.2803\n",
            "Epoch 32/40\n",
            "468/468 [==============================] - 12s 26ms/step - loss: 0.2780 - val_loss: 0.2804\n",
            "Epoch 33/40\n",
            "468/468 [==============================] - 12s 26ms/step - loss: 0.2781 - val_loss: 0.2803\n",
            "Epoch 34/40\n",
            "468/468 [==============================] - 13s 28ms/step - loss: 0.2780 - val_loss: 0.2802\n",
            "Epoch 35/40\n",
            "468/468 [==============================] - 12s 26ms/step - loss: 0.2779 - val_loss: 0.2801\n",
            "Epoch 36/40\n",
            "468/468 [==============================] - 12s 26ms/step - loss: 0.2778 - val_loss: 0.2803\n",
            "Epoch 37/40\n",
            "468/468 [==============================] - 12s 25ms/step - loss: 0.2779 - val_loss: 0.2804\n",
            "Epoch 38/40\n",
            "468/468 [==============================] - 12s 25ms/step - loss: 0.2778 - val_loss: 0.2804\n",
            "Epoch 39/40\n",
            "468/468 [==============================] - 12s 26ms/step - loss: 0.2777 - val_loss: 0.2803\n",
            "Epoch 40/40\n",
            "468/468 [==============================] - 12s 25ms/step - loss: 0.2778 - val_loss: 0.2799\n"
          ]
        }
      ],
      "source": [
        "train_steps = 60000 // BATCH_SIZE\n",
        "valid_steps = 60000 // BATCH_SIZE\n",
        "\n",
        "convolutional_model.compile(optimizer=tf.keras.optimizers.Adam(), loss='binary_crossentropy')\n",
        "conv_model_history = convolutional_model.fit(train_dataset, steps_per_epoch=train_steps, validation_data=test_dataset, validation_steps=valid_steps, epochs=40)"
      ]
    },
    {
      "cell_type": "markdown",
      "metadata": {
        "id": "npl9MHErlJa2"
      },
      "source": [
        "## Display sample results\n",
        "\n",
        "Let's see if the model can generate the clean image from noisy inputs."
      ]
    },
    {
      "cell_type": "code",
      "execution_count": 24,
      "metadata": {
        "id": "aqFR12I6fwBe"
      },
      "outputs": [],
      "source": [
        "def display_one_row(disp_images, offset, shape=(28, 28)):\n",
        "  '''Display sample outputs in one row.'''\n",
        "  for idx, noisy_image in enumerate(disp_images):\n",
        "    plt.subplot(3, 10, offset + idx + 1)\n",
        "    plt.xticks([])\n",
        "    plt.yticks([])\n",
        "    noisy_image = np.reshape(noisy_image, shape)\n",
        "    plt.imshow(noisy_image, cmap='gray')\n",
        "\n",
        "\n",
        "def display_results(disp_input_images, disp_encoded, disp_predicted, enc_shape=(8,4)):\n",
        "  '''Displays the input, encoded, and decoded output values.'''\n",
        "  plt.figure(figsize=(15, 5))\n",
        "  display_one_row(disp_input_images, 0, shape=(28,28,))\n",
        "  display_one_row(disp_encoded, 10, shape=enc_shape)\n",
        "  display_one_row(disp_predicted, 20, shape=(28,28,))"
      ]
    },
    {
      "cell_type": "code",
      "execution_count": 25,
      "metadata": {
        "id": "qtQyQRxRN_hH",
        "colab": {
          "base_uri": "https://localhost:8080/",
          "height": 442
        },
        "outputId": "7d72e251-0d8e-4e29-8a0b-c312b1af86ae"
      },
      "outputs": [
        {
          "output_type": "stream",
          "name": "stdout",
          "text": [
            "1/1 [==============================] - 0s 16ms/step\n",
            "1/1 [==============================] - 0s 18ms/step\n"
          ]
        },
        {
          "output_type": "display_data",
          "data": {
            "text/plain": [
              "<Figure size 1500x500 with 30 Axes>"
            ],
            "image/png": "[encoded data removed]"
          },
          "metadata": {}
        }
      ],
      "source": [
        "# take 1 batch of the dataset\n",
        "test_dataset = test_dataset.take(1)\n",
        "\n",
        "# take the input images and put them in a list\n",
        "output_samples = []\n",
        "for input_image, image in tfds.as_numpy(test_dataset):\n",
        "      output_samples = input_image\n",
        "\n",
        "# pick 10 indices\n",
        "idxs = np.array([1, 2, 3, 4, 5, 6, 7, 8, 9, 10])\n",
        "\n",
        "# prepare test samples as a batch of 10 images\n",
        "conv_output_samples = np.array(output_samples[idxs])\n",
        "conv_output_samples = np.reshape(conv_output_samples, (10, 28, 28, 1))\n",
        "\n",
        "# get the encoder ouput\n",
        "encoded = convolutional_encoder_model.predict(conv_output_samples)\n",
        "\n",
        "# get a prediction for some values in the dataset\n",
        "predicted = convolutional_model.predict(conv_output_samples)\n",
        "\n",
        "# display the samples, encodings and decoded values!\n",
        "display_results(conv_output_samples, encoded, predicted, enc_shape=(7,7))"
      ]
    },
    {
      "cell_type": "code",
      "source": [],
      "metadata": {
        "id": "ObBmZtAlW9To"
      },
      "execution_count": 23,
      "outputs": []
    }
  ],
  "metadata": {
    "accelerator": "GPU",
    "colab": {
      "provenance": [],
      "gpuType": "T4"
    },
    "kernelspec": {
      "display_name": "Python 3",
      "name": "python3"
    },
    "language_info": {
      "codemirror_mode": {
        "name": "ipython",
        "version": 3
      },
      "file_extension": ".py",
      "mimetype": "text/x-python",
      "name": "python",
      "nbconvert_exporter": "python",
      "pygments_lexer": "ipython3",
      "version": "3.12.4"
    }
  },
  "nbformat": 4,
  "nbformat_minor": 0
}